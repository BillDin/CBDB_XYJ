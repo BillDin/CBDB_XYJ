{
 "cells": [
  {
   "cell_type": "code",
   "execution_count": 1,
   "id": "1ffb6e75-83ba-4f9f-8bb5-8f953288c951",
   "metadata": {},
   "outputs": [],
   "source": [
    "import pandas as pd\n",
    "import numpy as np"
   ]
  },
  {
   "cell_type": "code",
   "execution_count": 2,
   "id": "583488bf-5815-4e8a-9ca5-8638b6638867",
   "metadata": {},
   "outputs": [],
   "source": [
    "with open('pred_later50.txt', 'r') as f:\n",
    "    later50=f.readlines()"
   ]
  },
  {
   "cell_type": "code",
   "execution_count": 3,
   "id": "4d4df213-cb1c-49e9-9128-e93e0dda5248",
   "metadata": {},
   "outputs": [],
   "source": [
    "df = pd.read_excel('Xiyouji_Masterfile_20220103_HYJ tags.xlsx')"
   ]
  },
  {
   "cell_type": "code",
   "execution_count": 4,
   "id": "9a9b80d6-142e-4d0a-a338-74ae58fff810",
   "metadata": {},
   "outputs": [],
   "source": [
    "potential_source = df['SOURCE'].unique()\n",
    "potential_target = df['TARGET'].unique()"
   ]
  },
  {
   "cell_type": "code",
   "execution_count": 5,
   "id": "9689f33a-6e8d-4b3c-9f01-0c85a89741f3",
   "metadata": {},
   "outputs": [],
   "source": [
    "def spt(s):\n",
    "    tmp = s.strip('\\n').split(':')[:3]\n",
    "    if len(tmp)<3:\n",
    "        return [np.nan, np.nan, np.nan]\n",
    "    if tmp[0] not in potential_source:\n",
    "        return [np.nan, np.nan, np.nan]\n",
    "    # if tmp[2] not in potential_target:\n",
    "    #     return ['', '', '']\n",
    "    tmp[0] = tmp[0].split('、')[0]\n",
    "    tmp[2] = tmp[2].split('、')[0]\n",
    "    if tmp[0] == '孫悟空':\n",
    "        tmp[0] = '行者'\n",
    "    if tmp[2] == '孫悟空':\n",
    "        tmp[2] = '行者'\n",
    "    if tmp[0] == '唐僧':\n",
    "        tmp[0] = '三藏'\n",
    "    if tmp[2] == '唐僧':\n",
    "        tmp[2] = '三藏'\n",
    "    return (tmp)"
   ]
  },
  {
   "cell_type": "code",
   "execution_count": 6,
   "id": "2cca6dcc-d29a-4e40-afea-cf823a567788",
   "metadata": {},
   "outputs": [],
   "source": [
    "for i in range(len(later50)):\n",
    "    later50[i] = spt(later50[i])"
   ]
  },
  {
   "cell_type": "code",
   "execution_count": 7,
   "id": "56c9c8c5-c4f3-4106-9645-1b44044e9bdf",
   "metadata": {},
   "outputs": [],
   "source": [
    "later50_df = pd.read_csv('later50.csv')"
   ]
  },
  {
   "cell_type": "code",
   "execution_count": 8,
   "id": "61a8bb6b-0716-43a5-b4f2-394afba6691a",
   "metadata": {},
   "outputs": [],
   "source": [
    "later50_res_df = pd.DataFrame(later50, columns=['SOURCE', 'ACTION', 'TARGET'])"
   ]
  },
  {
   "cell_type": "code",
   "execution_count": 9,
   "id": "1f16e6d5-479e-4527-afbc-380e98ed43ba",
   "metadata": {},
   "outputs": [],
   "source": [
    "later50_res_df.insert(0, 's', later50_df['s'])"
   ]
  },
  {
   "cell_type": "code",
   "execution_count": 10,
   "id": "8f539baa-b681-4415-8713-46685e718811",
   "metadata": {},
   "outputs": [],
   "source": [
    "later50_res_df.to_csv('later50_res.csv')"
   ]
  },
  {
   "cell_type": "code",
   "execution_count": 11,
   "id": "eec13430-75de-4dce-b109-11e2e561bb40",
   "metadata": {},
   "outputs": [
    {
     "name": "stdout",
     "output_type": "stream",
     "text": [
      "<class 'pandas.core.frame.DataFrame'>\n",
      "RangeIndex: 12274 entries, 0 to 12273\n",
      "Data columns (total 4 columns):\n",
      " #   Column  Non-Null Count  Dtype \n",
      "---  ------  --------------  ----- \n",
      " 0   s       12274 non-null  object\n",
      " 1   SOURCE  9427 non-null   object\n",
      " 2   ACTION  9427 non-null   object\n",
      " 3   TARGET  9427 non-null   object\n",
      "dtypes: object(4)\n",
      "memory usage: 383.7+ KB\n"
     ]
    }
   ],
   "source": [
    "later50_res_df.info()"
   ]
  },
  {
   "cell_type": "code",
   "execution_count": null,
   "id": "743275d5-c3dd-4b4d-810d-7d8dea9dd541",
   "metadata": {},
   "outputs": [],
   "source": []
  }
 ],
 "metadata": {
  "kernelspec": {
   "display_name": "Python 3 (ipykernel)",
   "language": "python",
   "name": "python3"
  },
  "language_info": {
   "codemirror_mode": {
    "name": "ipython",
    "version": 3
   },
   "file_extension": ".py",
   "mimetype": "text/x-python",
   "name": "python",
   "nbconvert_exporter": "python",
   "pygments_lexer": "ipython3",
   "version": "3.8.12"
  }
 },
 "nbformat": 4,
 "nbformat_minor": 5
}
