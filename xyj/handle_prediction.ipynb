{
 "cells": [
  {
   "cell_type": "code",
   "execution_count": 1,
   "metadata": {},
   "outputs": [],
   "source": [
    "import pandas as pd"
   ]
  },
  {
   "cell_type": "code",
   "execution_count": 3,
   "metadata": {},
   "outputs": [],
   "source": [
    "test_df = pd.read_csv('test.csv')"
   ]
  },
  {
   "cell_type": "code",
   "execution_count": 4,
   "metadata": {},
   "outputs": [
    {
     "data": {
      "text/html": [
       "<div>\n",
       "<style scoped>\n",
       "    .dataframe tbody tr th:only-of-type {\n",
       "        vertical-align: middle;\n",
       "    }\n",
       "\n",
       "    .dataframe tbody tr th {\n",
       "        vertical-align: top;\n",
       "    }\n",
       "\n",
       "    .dataframe thead th {\n",
       "        text-align: right;\n",
       "    }\n",
       "</style>\n",
       "<table border=\"1\" class=\"dataframe\">\n",
       "  <thead>\n",
       "    <tr style=\"text-align: right;\">\n",
       "      <th></th>\n",
       "      <th>s</th>\n",
       "      <th>desires_out</th>\n",
       "    </tr>\n",
       "  </thead>\n",
       "  <tbody>\n",
       "    <tr>\n",
       "      <th>0</th>\n",
       "      <td>那怪道：「再斟上！再斟上！」</td>\n",
       "      <td>老妖:道:小龍王</td>\n",
       "    </tr>\n",
       "    <tr>\n",
       "      <th>1</th>\n",
       "      <td>借得純陰寶扇，搧息燥火遙山。</td>\n",
       "      <td>::</td>\n",
       "    </tr>\n",
       "    <tr>\n",
       "      <th>2</th>\n",
       "      <td>樓閣飛青鳥，幢幡擺赤裾。</td>\n",
       "      <td>::</td>\n",
       "    </tr>\n",
       "    <tr>\n",
       "      <th>3</th>\n",
       "      <td>那皇帝與三宮妃后、太子、諸臣，將鎮國的寶貝，金銀緞帛，獻與師父酬恩。</td>\n",
       "      <td>皇帝、三宮妃后、太子、諸臣:獻與:三藏</td>\n",
       "    </tr>\n",
       "    <tr>\n",
       "      <th>4</th>\n",
       "      <td>玉帝道：「那路神將下界收伏？」</td>\n",
       "      <td>玉皇大帝:道:文武仙卿</td>\n",
       "    </tr>\n",
       "  </tbody>\n",
       "</table>\n",
       "</div>"
      ],
      "text/plain": [
       "                                    s          desires_out\n",
       "0                      那怪道：「再斟上！再斟上！」             老妖:道:小龍王\n",
       "1                      借得純陰寶扇，搧息燥火遙山。                   ::\n",
       "2                        樓閣飛青鳥，幢幡擺赤裾。                   ::\n",
       "3  那皇帝與三宮妃后、太子、諸臣，將鎮國的寶貝，金銀緞帛，獻與師父酬恩。  皇帝、三宮妃后、太子、諸臣:獻與:三藏\n",
       "4                     玉帝道：「那路神將下界收伏？」          玉皇大帝:道:文武仙卿"
      ]
     },
     "execution_count": 4,
     "metadata": {},
     "output_type": "execute_result"
    }
   ],
   "source": [
    "test_df.head()"
   ]
  },
  {
   "cell_type": "code",
   "execution_count": 5,
   "metadata": {},
   "outputs": [],
   "source": [
    "with open('./generated_predictions.txt') as f:\n",
    "    generated_pred = pd.Series(f.readlines())"
   ]
  },
  {
   "cell_type": "code",
   "execution_count": 7,
   "metadata": {},
   "outputs": [],
   "source": [
    "generated_pred = generated_pred.apply(lambda x: x.strip('\\n'))"
   ]
  },
  {
   "cell_type": "code",
   "execution_count": 8,
   "metadata": {},
   "outputs": [],
   "source": [
    "test_df['generated_prediction'] = generated_pred"
   ]
  },
  {
   "cell_type": "code",
   "execution_count": 10,
   "metadata": {},
   "outputs": [
    {
     "data": {
      "text/html": [
       "<div>\n",
       "<style scoped>\n",
       "    .dataframe tbody tr th:only-of-type {\n",
       "        vertical-align: middle;\n",
       "    }\n",
       "\n",
       "    .dataframe tbody tr th {\n",
       "        vertical-align: top;\n",
       "    }\n",
       "\n",
       "    .dataframe thead th {\n",
       "        text-align: right;\n",
       "    }\n",
       "</style>\n",
       "<table border=\"1\" class=\"dataframe\">\n",
       "  <thead>\n",
       "    <tr style=\"text-align: right;\">\n",
       "      <th></th>\n",
       "      <th>s</th>\n",
       "      <th>desires_out</th>\n",
       "      <th>generated_prediction</th>\n",
       "    </tr>\n",
       "  </thead>\n",
       "  <tbody>\n",
       "    <tr>\n",
       "      <th>0</th>\n",
       "      <td>那怪道：「再斟上！再斟上！」</td>\n",
       "      <td>老妖:道:小龍王</td>\n",
       "      <td>黑漢:道:精細鬼、伶俐蟲、金蕊、銀角、那賊、張稍、紅孩兒</td>\n",
       "    </tr>\n",
       "    <tr>\n",
       "      <th>1</th>\n",
       "      <td>借得純陰寶扇，搧息燥火遙山。</td>\n",
       "      <td>::</td>\n",
       "      <td>行者:道:紅孩兒、八戒、悟淨、沙僧、清風、明月、昊天府仙君</td>\n",
       "    </tr>\n",
       "    <tr>\n",
       "      <th>2</th>\n",
       "      <td>樓閣飛青鳥，幢幡擺赤裾。</td>\n",
       "      <td>::</td>\n",
       "      <td>樵子:青鳥:行者、八戒、悟淨、沙僧、清風、明月、揭諦</td>\n",
       "    </tr>\n",
       "    <tr>\n",
       "      <th>3</th>\n",
       "      <td>那皇帝與三宮妃后、太子、諸臣，將鎮國的寶貝，金銀緞帛，獻與師父酬恩。</td>\n",
       "      <td>皇帝、三宮妃后、太子、諸臣:獻與:三藏</td>\n",
       "      <td>皇帝:父酬恩:三宮妃后、太子、諸臣、鎮國的寶貝、金銀緞帛</td>\n",
       "    </tr>\n",
       "    <tr>\n",
       "      <th>4</th>\n",
       "      <td>玉帝道：「那路神將下界收伏？」</td>\n",
       "      <td>玉皇大帝:道:文武仙卿</td>\n",
       "      <td>玉皇大帝:道:太白金星、菩提祖師、木叉、捧珠大仙、揭諸天</td>\n",
       "    </tr>\n",
       "    <tr>\n",
       "      <th>...</th>\n",
       "      <td>...</td>\n",
       "      <td>...</td>\n",
       "      <td>...</td>\n",
       "    </tr>\n",
       "    <tr>\n",
       "      <th>3338</th>\n",
       "      <td>只為大唐僧有難，兩家無義苦爭論。</td>\n",
       "      <td>::</td>\n",
       "      <td>行者:義苦:三藏、兩家、沙僧、汱神、悟淨、濊菩薩、木叉</td>\n",
       "    </tr>\n",
       "    <tr>\n",
       "      <th>3339</th>\n",
       "      <td>老怪道：「拿來我看。」</td>\n",
       "      <td>::</td>\n",
       "      <td>老妖:道:行者、八戒、悟淨、沙僧、清風、明月、昊天府仙君</td>\n",
       "    </tr>\n",
       "    <tr>\n",
       "      <th>3340</th>\n",
       "      <td>斧劈桃山曾救母，彈打椶羅雙鳳凰。</td>\n",
       "      <td>::</td>\n",
       "      <td>劈桃山曾救母、彈打椶羅雙鳳凰:接將:劉全、菩提祖師</td>\n",
       "    </tr>\n",
       "    <tr>\n",
       "      <th>3341</th>\n",
       "      <td>遂此，三個弟兄，拴牢白馬，守護行囊，就在坡下安歇不題。</td>\n",
       "      <td>::</td>\n",
       "      <td>弟兄、拴牢、白馬、、守護:在坡下安歇:行者、八戒、悟淨、沙僧</td>\n",
       "    </tr>\n",
       "    <tr>\n",
       "      <th>3342</th>\n",
       "      <td>卻說陳家莊救生寺內多人，天曉起來，仍治果餚來獻，至樓下，不見了唐僧。</td>\n",
       "      <td>::</td>\n",
       "      <td>唐僧:見:崔玨、天曉起來、仍治果餚、獻、至樓下</td>\n",
       "    </tr>\n",
       "  </tbody>\n",
       "</table>\n",
       "<p>3343 rows × 3 columns</p>\n",
       "</div>"
      ],
      "text/plain": [
       "                                       s          desires_out  \\\n",
       "0                         那怪道：「再斟上！再斟上！」             老妖:道:小龍王   \n",
       "1                         借得純陰寶扇，搧息燥火遙山。                   ::   \n",
       "2                           樓閣飛青鳥，幢幡擺赤裾。                   ::   \n",
       "3     那皇帝與三宮妃后、太子、諸臣，將鎮國的寶貝，金銀緞帛，獻與師父酬恩。  皇帝、三宮妃后、太子、諸臣:獻與:三藏   \n",
       "4                        玉帝道：「那路神將下界收伏？」          玉皇大帝:道:文武仙卿   \n",
       "...                                  ...                  ...   \n",
       "3338                    只為大唐僧有難，兩家無義苦爭論。                   ::   \n",
       "3339                         老怪道：「拿來我看。」                   ::   \n",
       "3340                    斧劈桃山曾救母，彈打椶羅雙鳳凰。                   ::   \n",
       "3341         遂此，三個弟兄，拴牢白馬，守護行囊，就在坡下安歇不題。                   ::   \n",
       "3342  卻說陳家莊救生寺內多人，天曉起來，仍治果餚來獻，至樓下，不見了唐僧。                   ::   \n",
       "\n",
       "                generated_prediction  \n",
       "0       黑漢:道:精細鬼、伶俐蟲、金蕊、銀角、那賊、張稍、紅孩兒  \n",
       "1      行者:道:紅孩兒、八戒、悟淨、沙僧、清風、明月、昊天府仙君  \n",
       "2         樵子:青鳥:行者、八戒、悟淨、沙僧、清風、明月、揭諦  \n",
       "3       皇帝:父酬恩:三宮妃后、太子、諸臣、鎮國的寶貝、金銀緞帛  \n",
       "4       玉皇大帝:道:太白金星、菩提祖師、木叉、捧珠大仙、揭諸天  \n",
       "...                              ...  \n",
       "3338     行者:義苦:三藏、兩家、沙僧、汱神、悟淨、濊菩薩、木叉  \n",
       "3339    老妖:道:行者、八戒、悟淨、沙僧、清風、明月、昊天府仙君  \n",
       "3340       劈桃山曾救母、彈打椶羅雙鳳凰:接將:劉全、菩提祖師  \n",
       "3341  弟兄、拴牢、白馬、、守護:在坡下安歇:行者、八戒、悟淨、沙僧  \n",
       "3342         唐僧:見:崔玨、天曉起來、仍治果餚、獻、至樓下  \n",
       "\n",
       "[3343 rows x 3 columns]"
      ]
     },
     "execution_count": 10,
     "metadata": {},
     "output_type": "execute_result"
    }
   ],
   "source": [
    "test_df"
   ]
  },
  {
   "cell_type": "code",
   "execution_count": null,
   "metadata": {},
   "outputs": [],
   "source": []
  }
 ],
 "metadata": {
  "kernelspec": {
   "display_name": "Python 3 (ipykernel)",
   "language": "python",
   "name": "python3"
  },
  "language_info": {
   "codemirror_mode": {
    "name": "ipython",
    "version": 3
   },
   "file_extension": ".py",
   "mimetype": "text/x-python",
   "name": "python",
   "nbconvert_exporter": "python",
   "pygments_lexer": "ipython3",
   "version": "3.8.12"
  }
 },
 "nbformat": 4,
 "nbformat_minor": 4
}
